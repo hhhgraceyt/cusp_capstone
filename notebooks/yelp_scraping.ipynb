{
 "cells": [
  {
   "cell_type": "code",
   "execution_count": 40,
   "metadata": {},
   "outputs": [
    {
     "name": "stdout",
     "output_type": "stream",
     "text": [
      "\n",
      "Looking for [chromedriver 81.0.4044.69 mac64] driver in cache \n",
      "File found in cache by path [/Users/nicholaslicalzi/.wdm/drivers/chromedriver/81.0.4044.69/mac64/chromedriver]\n"
     ]
    }
   ],
   "source": [
    "from selenium import webdriver\n",
    "from webdriver_manager.chrome import ChromeDriverManager\n",
    "\n",
    "from bs4 import BeautifulSoup\n",
    "import time\n",
    "import pandas\n",
    "\n",
    "driver = webdriver.Chrome(ChromeDriverManager().install()) # automated driver install"
   ]
  },
  {
   "cell_type": "code",
   "execution_count": 41,
   "metadata": {},
   "outputs": [],
   "source": [
    "url = \"https://www.yelp.com/search?find_desc=Dance%20Clubs&find_loc=New%20York%2C%20NY&start=0\"\n",
    "\n",
    "driver.get(url)\n",
    "yelp_page_source_page1 = driver.page_source\n",
    "\n",
    "final_data = []\n",
    "soup = BeautifulSoup(yelp_page_source_page1, 'html.parser')\n",
    "all = soup.find_all('li', {'class': 'lemon--li__373c0__1r9wz border-color--default__373c0__3-ifU'})"
   ]
  },
  {
   "cell_type": "code",
   "execution_count": 49,
   "metadata": {},
   "outputs": [
    {
     "data": {
      "text/plain": [
       "[]"
      ]
     },
     "execution_count": 49,
     "metadata": {},
     "output_type": "execute_result"
    }
   ],
   "source": [
    "for data in all:\n",
    "    info_scraped = {}\n",
    "    try:\n",
    "        base = data.find('h3',{'class':'lemon--h3__373c0__sQmiG heading--h3__373c0__1n4Of alternate__373c0__1uacp'})\n",
    "        number_sequence = base.text[0]\n",
    "        if int(number_sequence) in (1,2,3,4,5,6,7,8,9):\n",
    "            try:\n",
    "                info_scraped['Restaurant Name'] = data.find('a',{'class':'lemon--a__373c0__IEZFH link__373c0__1G70M link-color--inherit__373c0__3dzpk link-size--inherit__373c0__1VFlE'}).text\n",
    "            except:\n",
    "                print(None)\n",
    "#             try:\n",
    "#                 info_scraped['Restaurant URL'] = data.find('div',{'class':'lemon--div__373c0__1mboc container__373c0__19wDx u-padding-l2 border-color--default__373c0__2oFDT text-align--right__373c0__3fmmn'}).find('p',{'class':'lemon--p__373c0__3Qnnj text__373c0__2pB8f text-color--normal__373c0__K_MKN text-align--right__373c0__3ARv7'}).text\n",
    "#             except:\n",
    "#                 print(None)\n",
    "            final_data.append(info_scraped)\n",
    "    except:\n",
    "        continue\n",
    "        \n",
    "final_data"
   ]
  },
  {
   "cell_type": "code",
   "execution_count": null,
   "metadata": {},
   "outputs": [],
   "source": []
  }
 ],
 "metadata": {
  "kernelspec": {
   "display_name": "Python (web_scraping)",
   "language": "python",
   "name": "web_scraping"
  },
  "language_info": {
   "codemirror_mode": {
    "name": "ipython",
    "version": 3
   },
   "file_extension": ".py",
   "mimetype": "text/x-python",
   "name": "python",
   "nbconvert_exporter": "python",
   "pygments_lexer": "ipython3",
   "version": "3.8.2"
  }
 },
 "nbformat": 4,
 "nbformat_minor": 2
}
