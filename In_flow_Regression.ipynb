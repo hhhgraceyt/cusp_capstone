{
  "nbformat": 4,
  "nbformat_minor": 0,
  "metadata": {
    "colab": {
      "name": "In-flow_Reg.ipynb",
      "provenance": [],
      "collapsed_sections": [],
      "mount_file_id": "1rJjRF3UDkUQKvwLL4bCYwlu5QPyaQuFF",
      "authorship_tag": "ABX9TyOehhOq55D91GXmwvsMrgQX",
      "include_colab_link": true
    },
    "kernelspec": {
      "name": "python3",
      "display_name": "Python 3"
    }
  },
  "cells": [
    {
      "cell_type": "markdown",
      "metadata": {
        "id": "view-in-github",
        "colab_type": "text"
      },
      "source": [
        "<a href=\"https://colab.research.google.com/github/hhhgraceyt/cusp_capstone/blob/master/In_flow_Regression.ipynb\" target=\"_parent\"><img src=\"https://colab.research.google.com/assets/colab-badge.svg\" alt=\"Open In Colab\"/></a>"
      ]
    },
    {
      "cell_type": "code",
      "metadata": {
        "id": "Nq5sCwY86UMz",
        "colab": {
          "base_uri": "https://localhost:8080/",
          "height": 71
        },
        "outputId": "310ed322-fbf4-478d-8a43-1b8730938cc9"
      },
      "source": [
        "import pandas as pd\n",
        "import numpy as np\n",
        "import statsmodels.formula.api as smf\n",
        "import statsmodels.api as sm\n",
        "from sklearn import linear_model\n",
        "import matplotlib.pylab as plt\n",
        "import math\n",
        "import seaborn as sns\n",
        "%matplotlib inline\n"
      ],
      "execution_count": null,
      "outputs": [
        {
          "output_type": "stream",
          "text": [
            "/usr/local/lib/python3.6/dist-packages/statsmodels/tools/_testing.py:19: FutureWarning: pandas.util.testing is deprecated. Use the functions in the public API at pandas.testing instead.\n",
            "  import pandas.util.testing as tm\n"
          ],
          "name": "stderr"
        }
      ]
    },
    {
      "cell_type": "markdown",
      "metadata": {
        "id": "D73oSxZ0DxYG"
      },
      "source": [
        "Are there variations in preferred night-time transportation mode in different boroughs of the city? Can we explain why that might be? (Responsible: Grace || Several regression models predicting. Dependent var: night-time inflow by each transit mode), w/ (independent vars: borough dummy variable, station count [w/ others too])"
      ]
    },
    {
      "cell_type": "code",
      "metadata": {
        "id": "jpqenal16Zc-"
      },
      "source": [
        "df19 = pd.read_csv('/content/drive/My Drive/Capstone_Regression/Final/merged19_csv_finalv3.csv')\n",
        "df20 = pd.read_csv('/content/drive/My Drive/Capstone_Regression/Final/merged20_csv_finalv2.csv')"
      ],
      "execution_count": null,
      "outputs": []
    },
    {
      "cell_type": "code",
      "metadata": {
        "id": "X8LWpDrfRxrF"
      },
      "source": [
        "#remove confusing marks in clumn names\n",
        "df19.rename(columns = {'night?':'night','covid-19?':'covid19'}, inplace = True)\n",
        "df20.rename(columns = {'night?':'night','covid-19?':'covid19'}, inplace = True)"
      ],
      "execution_count": null,
      "outputs": []
    },
    {
      "cell_type": "markdown",
      "metadata": {
        "id": "L_iMEFSQDVXJ"
      },
      "source": [
        "**Data Processing**"
      ]
    },
    {
      "cell_type": "code",
      "metadata": {
        "id": "KNdQQx87_w7j"
      },
      "source": [
        "#filter out the night period \n",
        "df19_1 = df19[df19['night'].isin(['1'])]\n",
        "df20_1 = df20[df20['night'].isin(['1'])]"
      ],
      "execution_count": null,
      "outputs": []
    },
    {
      "cell_type": "code",
      "metadata": {
        "id": "6aAJJSDJHp0j"
      },
      "source": [
        "#create weekday and boro dummy variables: \n",
        "#weekday dummy 2019 \n",
        "df_weekdayloc19 = df19_1[['weekday']]\n",
        "weekday_dummy19 = pd.get_dummies(df_weekdayloc19.weekday)\n",
        "df19_wd = pd.concat([df19_1, weekday_dummy19], axis=1)\n",
        "\n",
        "#weekday dummy 2020\n",
        "df_weekdayloc20 = df20_1[['weekday']]\n",
        "weekday_dummy20 = pd.get_dummies(df_weekdayloc20.weekday)\n",
        "df20_wd = pd.concat([df20_1, weekday_dummy20], axis=1)"
      ],
      "execution_count": null,
      "outputs": []
    },
    {
      "cell_type": "code",
      "metadata": {
        "id": "4VSZzCgAKWKH"
      },
      "source": [
        "#create boro dummy variables \n",
        "#boro dummy 2019 \n",
        "df_boroloc19 = df19_wd[['boro_name']]\n",
        "boro_dummy19 = pd.get_dummies(df_boroloc19.boro_name)\n",
        "df19_wd_bd = pd.concat([df19_wd, boro_dummy19], axis=1)\n",
        "\n",
        "#create boro dummy variables \n",
        "#boro dummy 2020\n",
        "df_boroloc20 = df20_wd[['boro_name']]\n",
        "boro_dummy20 = pd.get_dummies(df_boroloc20.boro_name)\n",
        "df20_wd_bd = pd.concat([df20_wd, boro_dummy20], axis=1)"
      ],
      "execution_count": null,
      "outputs": []
    },
    {
      "cell_type": "code",
      "metadata": {
        "id": "QQSwzwcYMr38"
      },
      "source": [
        "df19_wd_bd.rename(columns = {'Staten Island':'Staten_Island'}, inplace = True)\n",
        "df20_wd_bd.rename(columns = {'Staten Island':'Staten_Island'}, inplace = True)"
      ],
      "execution_count": null,
      "outputs": []
    },
    {
      "cell_type": "markdown",
      "metadata": {
        "id": "BHk-SBaLM-j0"
      },
      "source": [
        "Correlation Matrix"
      ]
    },
    {
      "cell_type": "code",
      "metadata": {
        "id": "daHtuztxM9tR",
        "colab": {
          "base_uri": "https://localhost:8080/",
          "height": 642
        },
        "outputId": "a537f7b0-11da-465d-dbb6-3f7925ec5dcd"
      },
      "source": [
        "#Correlation Matrix\n",
        "corrmat = df19_wd_bd.corr()\n",
        " \n",
        "f, ax = plt.subplots(figsize=(12, 9))\n",
        "sns.heatmap(corrmat, vmax=.8, square=True)\n",
        "plt.show()"
      ],
      "execution_count": null,
      "outputs": [
        {
          "output_type": "display_data",
          "data": {
            "image/png": "[encoded data removed]",
            "text/plain": [
              "<Figure size 864x648 with 2 Axes>"
            ]
          },
          "metadata": {
            "tags": [],
            "needs_background": "light"
          }
        }
      ]
    },
    {
      "cell_type": "code",
      "metadata": {
        "id": "M4zGFJ2cNAnc",
        "colab": {
          "base_uri": "https://localhost:8080/",
          "height": 642
        },
        "outputId": "fe19369c-358d-4014-fcbf-70a5460ba60a"
      },
      "source": [
        "#Correlation Matrix\n",
        "corrmat_20 = df20_wd_bd.corr()\n",
        " \n",
        "f, ax = plt.subplots(figsize=(12, 9))\n",
        "sns.heatmap(corrmat_20, vmax=.8, square=True)\n",
        "plt.show()"
      ],
      "execution_count": null,
      "outputs": [
        {
          "output_type": "display_data",
          "data": {
            "image/png": "[encoded data removed]",
            "text/plain": [
              "<Figure size 864x648 with 2 Axes>"
            ]
          },
          "metadata": {
            "tags": [],
            "needs_background": "light"
          }
        }
      ]
    },
    {
      "cell_type": "markdown",
      "metadata": {
        "id": "Bok0qazUYZAr"
      },
      "source": [
        "When we run the correlation check, it is clear the factory area and number of buildings are not related"
      ]
    },
    {
      "cell_type": "code",
      "metadata": {
        "id": "S7CRNTMkM91T"
      },
      "source": [
        ""
      ],
      "execution_count": null,
      "outputs": []
    },
    {
      "cell_type": "code",
      "metadata": {
        "id": "7lItRpldA1PY",
        "colab": {
          "base_uri": "https://localhost:8080/",
          "height": 204
        },
        "outputId": "6cb4fdc8-70a4-4dc7-fb12-0ca7608f3f65"
      },
      "source": [
        "df20_wd_bd.columns"
      ],
      "execution_count": null,
      "outputs": [
        {
          "output_type": "execute_result",
          "data": {
            "text/plain": [
              "Index(['Unnamed: 0', 'hex_id_8', 'month', 'day', 'weekday', 'night',\n",
              "       'citi_inflow_counts', 'citi_outflow_counts', 'key', 'mta_inflow_counts',\n",
              "       'mta_outflow_counts', 'year', 'venue_count', 'LotArea', 'ComArea',\n",
              "       'ResArea', 'OfficeArea', 'RetailArea', 'FactryArea', 'NumBldgs',\n",
              "       'day_pop', 'night_pop', 'month+day', 'Temp_Avg', 'Precipitation',\n",
              "       'covid19', 'time', 'business_count', 'venue_pct', 'count_z', 'pct_z',\n",
              "       'boro_code', 'boro_name', 'subway_station_count', 'bike_station_count',\n",
              "       'Friday', 'Monday', 'Saturday', 'Sunday', 'Thursday', 'Tuesday',\n",
              "       'Wednesday', 'Bronx', 'Brooklyn', 'Manhattan', 'Queens',\n",
              "       'Staten_Island'],\n",
              "      dtype='object')"
            ]
          },
          "metadata": {
            "tags": []
          },
          "execution_count": 13
        }
      ]
    },
    {
      "cell_type": "code",
      "metadata": {
        "id": "6icGSKMfMKKm"
      },
      "source": [
        "#format regression formula for night-time transportation inflows[only contains the dummy variables, weather, and station counts]Friday+Monday+Saturday+Sunday+Thursday+Tuesday+Wednesday+\n",
        "formula_mta = 'mta_inflow_counts~venue_count+subway_station_count+bike_station_count+business_count+Bronx+Brooklyn+Manhattan+Queens+Staten_Island'\n",
        "formula_citi = 'citi_inflow_counts~venue_count+subway_station_count+bike_station_count+business_count+Bronx+Brooklyn+Manhattan+Queens+Staten_Island'\n",
        "formula_fhv = 'fhv_inflow_counts~venue_count+subway_station_count+bike_station_count+business_count+Bronx+Brooklyn+Manhattan+Queens+Staten_Island'"
      ],
      "execution_count": null,
      "outputs": []
    },
    {
      "cell_type": "code",
      "metadata": {
        "id": "Ifz_SYlhXMHg"
      },
      "source": [
        "#format regression formula for night-time transportation inflows[only contains the dummy variables, weather, and station counts]Friday+Monday+Saturday+Sunday+Thursday+Tuesday+Wednesday+\n",
        "formula_mta20 = 'mta_inflow_counts~venue_count+subway_station_count+bike_station_count+business_count+Bronx+Brooklyn+Manhattan+Queens+Staten_Island+covid19'\n",
        "formula_citi20 = 'citi_inflow_counts~venue_count+subway_station_count+bike_station_count+business_count+Bronx+Brooklyn+Manhattan+Queens+Staten_Island+covid19'\n",
        "formula_fhv20 = 'fhv_inflow_counts~venue_count+subway_station_count+bike_station_count+business_count+Bronx+Brooklyn+Manhattan+Queens+Staten_Island+covid19'"
      ],
      "execution_count": null,
      "outputs": []
    },
    {
      "cell_type": "code",
      "metadata": {
        "id": "POog0VXJXFRX"
      },
      "source": [
        "#format regression formula for night-time transportation with Area VariablesFriday+Monday+Saturday+Sunday+Thursday+Tuesday+Wednesday+\n",
        "formula_mta_area = 'mta_inflow_counts~venue_count+subway_station_count+bike_station_count+business_count+Bronx+Brooklyn+Manhattan+Queens+Staten_Island+LotArea+ResArea+OfficeArea+RetailArea'\n",
        "formula_citi_area = 'citi_inflow_counts~venue_count+subway_station_count+bike_station_count+business_count+Bronx+Brooklyn+Manhattan+Queens+Staten_Island+LotArea+ResArea+OfficeArea+RetailArea'\n",
        "formula_fhv_area = 'fhv_inflow_counts~venue_count+subway_station_count+bike_station_count+business_count+Bronx+Brooklyn+Manhattan+Queens+Staten_Island+LotArea+ResArea+OfficeArea+RetailArea'"
      ],
      "execution_count": null,
      "outputs": []
    },
    {
      "cell_type": "code",
      "metadata": {
        "id": "La5aPtGCK_dd"
      },
      "source": [
        "#format regression formula for night-time tranportation with population variables:Friday+Monday+Saturday+Sunday+Thursday+Tuesday+Wednesday+\n",
        "formula_mta_pop = 'mta_inflow_counts~venue_count+subway_station_count+bike_station_count+business_count+Bronx+Brooklyn+Manhattan+Queens+Staten_Island+day_pop+night_pop'\n",
        "formula_citi_pop = 'citi_inflow_counts~venue_count+subway_station_count+bike_station_count+business_count+Bronx+Brooklyn+Manhattan+Queens+Staten_Island+day_pop+night_pop'\n",
        "formula_fhv_pop = 'fhv_inflow_counts~venue_count+subway_station_count+bike_station_count+business_count+Bronx+Brooklyn+Manhattan+Queens+Staten_Island+day_pop+night_pop'"
      ],
      "execution_count": null,
      "outputs": []
    },
    {
      "cell_type": "markdown",
      "metadata": {
        "id": "Mm6uX_7narJy"
      },
      "source": [
        "**2019 Inflow Regression Models**"
      ]
    },
    {
      "cell_type": "code",
      "metadata": {
        "id": "yfF0C_DIas1I",
        "cellView": "code",
        "colab": {
          "base_uri": "https://localhost:8080/",
          "height": 1000
        },
        "outputId": "eb9cf487-d4d4-46e5-fb5b-895d79855995"
      },
      "source": [
        "#@title 默认标题文本\n",
        "#2019 MTA Regressions\n",
        "\n",
        "inflow_Reg_19mta = smf.ols(formula=formula_mta, data = df19_wd_bd).fit()\n",
        "print('The following result is 2019 mta night-time inflow regression')\n",
        "print(inflow_Reg_19mta.summary())\n",
        "\n",
        "#2019 MTA night-time Regressions with area variables\n",
        "\n",
        "inflow_Reg_19mta_area = smf.ols(formula=formula_mta_area, data = df19_wd_bd).fit()\n",
        "print('\\n')\n",
        "print('The following result is 2019 mta night-time inflow regression with area variables')\n",
        "print(inflow_Reg_19mta_area.summary())\n",
        "\n",
        "#2019 MTA night-time Regressions with population variables\n",
        "\n",
        "inflow_Reg_19mta_pop = smf.ols(formula=formula_mta_pop, data = df19_wd_bd).fit()\n",
        "print('\\n')\n",
        "print('The following result is 2019 mta night-time inflow regression with population variables')\n",
        "print(inflow_Reg_19mta_pop.summary())"
      ],
      "execution_count": null,
      "outputs": [
        {
          "output_type": "stream",
          "text": [
            "The following result is 2019 mta night-time inflow regression\n",
            "                            OLS Regression Results                            \n",
            "==============================================================================\n",
            "Dep. Variable:      mta_inflow_counts   R-squared:                       0.781\n",
            "Model:                            OLS   Adj. R-squared:                  0.781\n",
            "Method:                 Least Squares   F-statistic:                 6.411e+04\n",
            "Date:                Sun, 19 Jul 2020   Prob (F-statistic):               0.00\n",
            "Time:                        01:31:50   Log-Likelihood:            -1.2522e+06\n",
            "No. Observations:              143880   AIC:                         2.504e+06\n",
            "Df Residuals:                  143871   BIC:                         2.504e+06\n",
            "Df Model:                           8                                         \n",
            "Covariance Type:            nonrobust                                         \n",
            "========================================================================================\n",
            "                           coef    std err          t      P>|t|      [0.025      0.975]\n",
            "----------------------------------------------------------------------------------------\n",
            "Intercept             -430.9263      4.813    -89.534      0.000    -440.360    -421.493\n",
            "venue_count             78.7181      0.587    134.055      0.000      77.567      79.869\n",
            "subway_station_count   593.8213      5.686    104.430      0.000     582.676     604.966\n",
            "bike_station_count    -131.0410      2.692    -48.670      0.000    -136.318    -125.764\n",
            "business_count           1.6937      0.006    280.379      0.000       1.682       1.706\n",
            "Bronx                  -99.1198      9.232    -10.736      0.000    -117.215     -81.025\n",
            "Brooklyn              -238.5262      7.495    -31.827      0.000    -253.215    -223.837\n",
            "Manhattan             -324.8862     16.448    -19.753      0.000    -357.123    -292.649\n",
            "Queens                  30.0437      6.876      4.370      0.000      16.567      43.520\n",
            "Staten_Island          201.5622      8.609     23.414      0.000     184.690     218.435\n",
            "==============================================================================\n",
            "Omnibus:                    95714.088   Durbin-Watson:                   2.081\n",
            "Prob(Omnibus):                  0.000   Jarque-Bera (JB):         34342957.498\n",
            "Skew:                           2.025   Prob(JB):                         0.00\n",
            "Kurtosis:                      78.579   Cond. No.                     2.29e+18\n",
            "==============================================================================\n",
            "\n",
            "Warnings:\n",
            "[1] Standard Errors assume that the covariance matrix of the errors is correctly specified.\n",
            "[2] The smallest eigenvalue is 3.69e-26. This might indicate that there are\n",
            "strong multicollinearity problems or that the design matrix is singular.\n",
            "\n",
            "\n",
            "The following result is 2019 mta night-time inflow regression with area variables\n",
            "                            OLS Regression Results                            \n",
            "==============================================================================\n",
            "Dep. Variable:      mta_inflow_counts   R-squared:                       0.794\n",
            "Model:                            OLS   Adj. R-squared:                  0.794\n",
            "Method:                 Least Squares   F-statistic:                 4.620e+04\n",
            "Date:                Sun, 19 Jul 2020   Prob (F-statistic):               0.00\n",
            "Time:                        01:31:51   Log-Likelihood:            -1.2477e+06\n",
            "No. Observations:              143880   AIC:                         2.496e+06\n",
            "Df Residuals:                  143867   BIC:                         2.496e+06\n",
            "Df Model:                          12                                         \n",
            "Covariance Type:            nonrobust                                         \n",
            "========================================================================================\n",
            "                           coef    std err          t      P>|t|      [0.025      0.975]\n",
            "----------------------------------------------------------------------------------------\n",
            "Intercept             -226.1132      6.281    -36.002      0.000    -238.423    -213.803\n",
            "venue_count             72.5821      0.593    122.416      0.000      71.420      73.744\n",
            "subway_station_count   607.8690      5.702    106.601      0.000     596.693     619.045\n",
            "bike_station_count     -79.4083      2.714    -29.260      0.000     -84.728     -74.089\n",
            "business_count           1.2291      0.011    116.757      0.000       1.208       1.250\n",
            "Bronx                  -61.1152      9.018     -6.777      0.000     -78.790     -43.440\n",
            "Brooklyn              -246.6484      7.307    -33.757      0.000    -260.969    -232.328\n",
            "Manhattan               87.2549     17.152      5.087      0.000      53.637     120.872\n",
            "Queens                 -49.4056      6.797     -7.269      0.000     -62.727     -36.084\n",
            "Staten_Island           43.8011      8.714      5.026      0.000      26.722      60.881\n",
            "LotArea               1.401e-06   7.81e-08     17.931      0.000    1.25e-06    1.55e-06\n",
            "ResArea              -7.815e-05   1.46e-06    -53.428      0.000    -8.1e-05   -7.53e-05\n",
            "OfficeArea            8.825e-05   2.34e-06     37.772      0.000    8.37e-05    9.28e-05\n",
            "RetailArea               0.0006   1.45e-05     38.052      0.000       0.001       0.001\n",
            "==============================================================================\n",
            "Omnibus:                   111681.798   Durbin-Watson:                   2.083\n",
            "Prob(Omnibus):                  0.000   Jarque-Bera (JB):         43072287.664\n",
            "Skew:                           2.663   Prob(JB):                         0.00\n",
            "Kurtosis:                      87.595   Cond. No.                     6.32e+22\n",
            "==============================================================================\n",
            "\n",
            "Warnings:\n",
            "[1] Standard Errors assume that the covariance matrix of the errors is correctly specified.\n",
            "[2] The smallest eigenvalue is 1.06e-25. This might indicate that there are\n",
            "strong multicollinearity problems or that the design matrix is singular.\n",
            "\n",
            "\n",
            "The following result is 2019 mta night-time inflow regression with population variables\n",
            "                            OLS Regression Results                            \n",
            "==============================================================================\n",
            "Dep. Variable:      mta_inflow_counts   R-squared:                       0.802\n",
            "Model:                            OLS   Adj. R-squared:                  0.802\n",
            "Method:                 Least Squares   F-statistic:                 5.829e+04\n",
            "Date:                Sun, 19 Jul 2020   Prob (F-statistic):               0.00\n",
            "Time:                        01:31:51   Log-Likelihood:            -1.2449e+06\n",
            "No. Observations:              143880   AIC:                         2.490e+06\n",
            "Df Residuals:                  143869   BIC:                         2.490e+06\n",
            "Df Model:                          10                                         \n",
            "Covariance Type:            nonrobust                                         \n",
            "========================================================================================\n",
            "                           coef    std err          t      P>|t|      [0.025      0.975]\n",
            "----------------------------------------------------------------------------------------\n",
            "Intercept             -140.9966      5.786    -24.371      0.000    -152.336    -129.657\n",
            "venue_count             78.5151      0.558    140.607      0.000      77.421      79.610\n",
            "subway_station_count   668.4430      5.713    117.002      0.000     657.245     679.641\n",
            "bike_station_count    -113.5545      2.595    -43.753      0.000    -118.641    -108.468\n",
            "business_count           0.9413      0.011     84.204      0.000       0.919       0.963\n",
            "Bronx                  -42.5529      8.896     -4.784      0.000     -59.988     -25.117\n",
            "Brooklyn              -152.0322      7.184    -21.163      0.000    -166.113    -137.952\n",
            "Manhattan               52.4051     16.170      3.241      0.001      20.712      84.098\n",
            "Queens                 -10.6606      6.552     -1.627      0.104     -23.502       2.180\n",
            "Staten_Island           11.8440      8.518      1.390      0.164      -4.851      28.539\n",
            "day_pop                  0.0432      0.001     76.968      0.000       0.042       0.044\n",
            "night_pop               -0.0530      0.001   -102.548      0.000      -0.054      -0.052\n",
            "==============================================================================\n",
            "Omnibus:                   105981.049   Durbin-Watson:                   2.130\n",
            "Prob(Omnibus):                  0.000   Jarque-Bera (JB):         44968910.355\n",
            "Skew:                           2.396   Prob(JB):                         0.00\n",
            "Kurtosis:                      89.476   Cond. No.                     2.81e+19\n",
            "==============================================================================\n",
            "\n",
            "Warnings:\n",
            "[1] Standard Errors assume that the covariance matrix of the errors is correctly specified.\n",
            "[2] The smallest eigenvalue is 1.11e-25. This might indicate that there are\n",
            "strong multicollinearity problems or that the design matrix is singular.\n"
          ],
          "name": "stdout"
        }
      ]
    },
    {
      "cell_type": "code",
      "metadata": {
        "id": "53tfv9-wb0zF",
        "cellView": "code",
        "colab": {
          "base_uri": "https://localhost:8080/",
          "height": 1000
        },
        "outputId": "ff909eea-595a-4929-c0e9-342a6d56e090"
      },
      "source": [
        "#@title 默认标题文本\n",
        "#2019 Citi Bike night-time Regressions\n",
        "\n",
        "inflow_Reg_19citi = smf.ols(formula=formula_citi, data = df19_wd_bd).fit()\n",
        "print('The following result is 2019 Citi Bike night-time inflow regression')\n",
        "print(inflow_Reg_19citi.summary())\n",
        "\n",
        "#2019 Citi Bike night-time Regressions with area variables\n",
        "\n",
        "inflow_Reg_19citi_area = smf.ols(formula=formula_citi_area, data = df19_wd_bd).fit()\n",
        "print('\\n')\n",
        "print('The following result is 2019 Citi Bike night-time inflow regression with area variables')\n",
        "print(inflow_Reg_19citi_area.summary())\n",
        "\n",
        "#2019 MTA night-time Regressions with population variables\n",
        "\n",
        "inflow_Reg_19citi_pop = smf.ols(formula=formula_citi_pop, data = df19_wd_bd).fit()\n",
        "print('\\n')\n",
        "print('The following result is 2019 Citi Bike night-time inflow regression with population variables')\n",
        "print(inflow_Reg_19citi_pop.summary())"
      ],
      "execution_count": null,
      "outputs": [
        {
          "output_type": "stream",
          "text": [
            "The following result is 2019 Citi Bike night-time inflow regression\n",
            "                            OLS Regression Results                            \n",
            "==============================================================================\n",
            "Dep. Variable:     citi_inflow_counts   R-squared:                       0.647\n",
            "Model:                            OLS   Adj. R-squared:                  0.647\n",
            "Method:                 Least Squares   F-statistic:                 3.293e+04\n",
            "Date:                Sun, 19 Jul 2020   Prob (F-statistic):               0.00\n",
            "Time:                        01:32:25   Log-Likelihood:            -5.3570e+05\n",
            "No. Observations:              143880   AIC:                         1.071e+06\n",
            "Df Residuals:                  143871   BIC:                         1.072e+06\n",
            "Df Model:                           8                                         \n",
            "Covariance Type:            nonrobust                                         \n",
            "========================================================================================\n",
            "                           coef    std err          t      P>|t|      [0.025      0.975]\n",
            "----------------------------------------------------------------------------------------\n",
            "Intercept                1.2478      0.033     37.701      0.000       1.183       1.313\n",
            "venue_count              0.9079      0.004    224.838      0.000       0.900       0.916\n",
            "subway_station_count    -1.4430      0.039    -36.900      0.000      -1.520      -1.366\n",
            "bike_station_count       2.3661      0.019    127.789      0.000       2.330       2.402\n",
            "business_count          -0.0021   4.15e-05    -51.107      0.000      -0.002      -0.002\n",
            "Bronx                   -1.6889      0.063    -26.601      0.000      -1.813      -1.564\n",
            "Brooklyn                -2.2773      0.052    -44.186      0.000      -2.378      -2.176\n",
            "Manhattan                8.4104      0.113     74.357      0.000       8.189       8.632\n",
            "Queens                  -1.8950      0.047    -40.077      0.000      -1.988      -1.802\n",
            "Staten_Island           -1.3014      0.059    -21.983      0.000      -1.417      -1.185\n",
            "==============================================================================\n",
            "Omnibus:                   192591.941   Durbin-Watson:                   1.766\n",
            "Prob(Omnibus):                  0.000   Jarque-Bera (JB):        139898520.364\n",
            "Skew:                           7.202   Prob(JB):                         0.00\n",
            "Kurtosis:                     155.080   Cond. No.                     2.29e+18\n",
            "==============================================================================\n",
            "\n",
            "Warnings:\n",
            "[1] Standard Errors assume that the covariance matrix of the errors is correctly specified.\n",
            "[2] The smallest eigenvalue is 3.69e-26. This might indicate that there are\n",
            "strong multicollinearity problems or that the design matrix is singular.\n",
            "\n",
            "\n",
            "The following result is 2019 Citi Bike night-time inflow regression with area variables\n",
            "                            OLS Regression Results                            \n",
            "==============================================================================\n",
            "Dep. Variable:     citi_inflow_counts   R-squared:                       0.661\n",
            "Model:                            OLS   Adj. R-squared:                  0.661\n",
            "Method:                 Least Squares   F-statistic:                 2.335e+04\n",
            "Date:                Sun, 19 Jul 2020   Prob (F-statistic):               0.00\n",
            "Time:                        01:32:25   Log-Likelihood:            -5.3278e+05\n",
            "No. Observations:              143880   AIC:                         1.066e+06\n",
            "Df Residuals:                  143867   BIC:                         1.066e+06\n",
            "Df Model:                          12                                         \n",
            "Covariance Type:            nonrobust                                         \n",
            "========================================================================================\n",
            "                           coef    std err          t      P>|t|      [0.025      0.975]\n",
            "----------------------------------------------------------------------------------------\n",
            "Intercept                0.5282      0.044     12.102      0.000       0.443       0.614\n",
            "venue_count              0.9205      0.004    223.408      0.000       0.912       0.929\n",
            "subway_station_count    -1.2189      0.040    -30.760      0.000      -1.297      -1.141\n",
            "bike_station_count       2.2387      0.019    118.709      0.000       2.202       2.276\n",
            "business_count           0.0020   7.32e-05     27.628      0.000       0.002       0.002\n",
            "Bronx                   -1.6508      0.063    -26.343      0.000      -1.774      -1.528\n",
            "Brooklyn                -2.4365      0.051    -47.987      0.000      -2.536      -2.337\n",
            "Manhattan                7.2756      0.119     61.043      0.000       7.042       7.509\n",
            "Queens                  -1.8410      0.047    -38.980      0.000      -1.934      -1.748\n",
            "Staten_Island           -0.8192      0.061    -13.528      0.000      -0.938      -0.700\n",
            "LotArea               4.071e-09   5.43e-10      7.499      0.000    3.01e-09    5.13e-09\n",
            "ResArea               8.447e-08   1.02e-08      8.310      0.000    6.45e-08    1.04e-07\n",
            "OfficeArea           -9.994e-07   1.62e-08    -61.556      0.000   -1.03e-06   -9.68e-07\n",
            "RetailArea           -2.323e-06   1.01e-07    -22.995      0.000   -2.52e-06   -2.12e-06\n",
            "==============================================================================\n",
            "Omnibus:                   191532.275   Durbin-Watson:                   1.725\n",
            "Prob(Omnibus):                  0.000   Jarque-Bera (JB):        134847642.782\n",
            "Skew:                           7.134   Prob(JB):                         0.00\n",
            "Kurtosis:                     152.298   Cond. No.                     6.32e+22\n",
            "==============================================================================\n",
            "\n",
            "Warnings:\n",
            "[1] Standard Errors assume that the covariance matrix of the errors is correctly specified.\n",
            "[2] The smallest eigenvalue is 1.06e-25. This might indicate that there are\n",
            "strong multicollinearity problems or that the design matrix is singular.\n",
            "\n",
            "\n",
            "The following result is 2019 Citi Bike night-time inflow regression with population variables\n",
            "                            OLS Regression Results                            \n",
            "==============================================================================\n",
            "Dep. Variable:     citi_inflow_counts   R-squared:                       0.650\n",
            "Model:                            OLS   Adj. R-squared:                  0.650\n",
            "Method:                 Least Squares   F-statistic:                 2.671e+04\n",
            "Date:                Sun, 19 Jul 2020   Prob (F-statistic):               0.00\n",
            "Time:                        01:32:25   Log-Likelihood:            -5.3505e+05\n",
            "No. Observations:              143880   AIC:                         1.070e+06\n",
            "Df Residuals:                  143869   BIC:                         1.070e+06\n",
            "Df Model:                          10                                         \n",
            "Covariance Type:            nonrobust                                         \n",
            "========================================================================================\n",
            "                           coef    std err          t      P>|t|      [0.025      0.975]\n",
            "----------------------------------------------------------------------------------------\n",
            "Intercept                0.8723      0.042     20.936      0.000       0.791       0.954\n",
            "venue_count              0.9072      0.004    225.593      0.000       0.899       0.915\n",
            "subway_station_count    -1.4579      0.041    -35.434      0.000      -1.539      -1.377\n",
            "bike_station_count       2.3623      0.019    126.385      0.000       2.326       2.399\n",
            "business_count       -4.973e-05   8.05e-05     -0.618      0.537      -0.000       0.000\n",
            "Bronx                   -1.6961      0.064    -26.474      0.000      -1.822      -1.571\n",
            "Brooklyn                -2.4039      0.052    -46.463      0.000      -2.505      -2.303\n",
            "Manhattan                7.8698      0.116     67.577      0.000       7.642       8.098\n",
            "Queens                  -1.8371      0.047    -38.935      0.000      -1.930      -1.745\n",
            "Staten_Island           -1.0604      0.061    -17.285      0.000      -1.181      -0.940\n",
            "day_pop                 -0.0001   4.04e-06    -29.708      0.000      -0.000      -0.000\n",
            "night_pop             8.369e-05   3.72e-06     22.482      0.000    7.64e-05     9.1e-05\n",
            "==============================================================================\n",
            "Omnibus:                   190748.222   Durbin-Watson:                   1.748\n",
            "Prob(Omnibus):                  0.000   Jarque-Bera (JB):        131931211.186\n",
            "Skew:                           7.082   Prob(JB):                         0.00\n",
            "Kurtosis:                     150.669   Cond. No.                     2.81e+19\n",
            "==============================================================================\n",
            "\n",
            "Warnings:\n",
            "[1] Standard Errors assume that the covariance matrix of the errors is correctly specified.\n",
            "[2] The smallest eigenvalue is 1.11e-25. This might indicate that there are\n",
            "strong multicollinearity problems or that the design matrix is singular.\n"
          ],
          "name": "stdout"
        }
      ]
    },
    {
      "cell_type": "code",
      "metadata": {
        "id": "3KuCkSQdhsBi",
        "colab": {
          "base_uri": "https://localhost:8080/",
          "height": 1000
        },
        "outputId": "fb7d8e52-07cf-4de4-88ca-5c98e3a6c4c1"
      },
      "source": [
        "#2019 FHV night-time Regressions\n",
        "inflow_Reg_19fhv = smf.ols(formula=formula_fhv, data = df19_wd_bd).fit()\n",
        "print('The following result is 2019 FHV Taxi night-time inflow regression')\n",
        "print(inflow_Reg_19fhv.summary())\n",
        "\n",
        "#2019 FHV night-time Regressions with area variables\n",
        "inflow_Reg_19fhv_area = smf.ols(formula=formula_fhv_area, data = df19_wd_bd).fit()\n",
        "print('\\n')\n",
        "print('The following result is 2019 FHV Taxi night-time inflow regression with area variables')\n",
        "print(inflow_Reg_19fhv_area.summary())\n",
        "\n",
        "#2019 MTA night-time Regressions with population variables\n",
        "inflow_Reg_19fhv_pop = smf.ols(formula=formula_fhv_pop, data = df19_wd_bd).fit()\n",
        "print('\\n')\n",
        "print('The following result is 2019 FHV Taxi night-time inflow regression with population variables')\n",
        "print(inflow_Reg_19fhv_pop.summary())"
      ],
      "execution_count": null,
      "outputs": [
        {
          "output_type": "stream",
          "text": [
            "The following result is 2019 FHV Taxi night-time inflow regression\n",
            "                            OLS Regression Results                            \n",
            "==============================================================================\n",
            "Dep. Variable:      fhv_inflow_counts   R-squared:                       0.781\n",
            "Model:                            OLS   Adj. R-squared:                  0.781\n",
            "Method:                 Least Squares   F-statistic:                 6.399e+04\n",
            "Date:                Sun, 19 Jul 2020   Prob (F-statistic):               0.00\n",
            "Time:                        01:32:28   Log-Likelihood:            -9.4663e+05\n",
            "No. Observations:              143880   AIC:                         1.893e+06\n",
            "Df Residuals:                  143871   BIC:                         1.893e+06\n",
            "Df Model:                           8                                         \n",
            "Covariance Type:            nonrobust                                         \n",
            "========================================================================================\n",
            "                           coef    std err          t      P>|t|      [0.025      0.975]\n",
            "----------------------------------------------------------------------------------------\n",
            "Intercept               96.8106      0.576    168.167      0.000      95.682      97.939\n",
            "venue_count             14.1384      0.070    201.299      0.000      14.001      14.276\n",
            "subway_station_count    20.4962      0.680     30.135      0.000      19.163      21.829\n",
            "bike_station_count      46.1969      0.322    143.450      0.000      45.566      46.828\n",
            "business_count           0.0273      0.001     37.829      0.000       0.026       0.029\n",
            "Bronx                   15.6294      1.104     14.154      0.000      13.465      17.794\n",
            "Brooklyn                 6.3462      0.896      7.080      0.000       4.589       8.103\n",
            "Manhattan              233.4191      1.967    118.650      0.000     229.563     237.275\n",
            "Queens                 -59.6966      0.822    -72.588      0.000     -61.308     -58.085\n",
            "Staten_Island          -98.8875      1.030    -96.039      0.000    -100.906     -96.869\n",
            "==============================================================================\n",
            "Omnibus:                   117194.179   Durbin-Watson:                   1.550\n",
            "Prob(Omnibus):                  0.000   Jarque-Bera (JB):         14469498.151\n",
            "Skew:                           3.258   Prob(JB):                         0.00\n",
            "Kurtosis:                      51.694   Cond. No.                     2.29e+18\n",
            "==============================================================================\n",
            "\n",
            "Warnings:\n",
            "[1] Standard Errors assume that the covariance matrix of the errors is correctly specified.\n",
            "[2] The smallest eigenvalue is 3.69e-26. This might indicate that there are\n",
            "strong multicollinearity problems or that the design matrix is singular.\n",
            "\n",
            "\n",
            "The following result is 2019 FHV Taxi night-time inflow regression with area variables\n",
            "                            OLS Regression Results                            \n",
            "==============================================================================\n",
            "Dep. Variable:      fhv_inflow_counts   R-squared:                       0.804\n",
            "Model:                            OLS   Adj. R-squared:                  0.804\n",
            "Method:                 Least Squares   F-statistic:                 4.933e+04\n",
            "Date:                Sun, 19 Jul 2020   Prob (F-statistic):               0.00\n",
            "Time:                        01:32:28   Log-Likelihood:            -9.3834e+05\n",
            "No. Observations:              143880   AIC:                         1.877e+06\n",
            "Df Residuals:                  143867   BIC:                         1.877e+06\n",
            "Df Model:                          12                                         \n",
            "Covariance Type:            nonrobust                                         \n",
            "========================================================================================\n",
            "                           coef    std err          t      P>|t|      [0.025      0.975]\n",
            "----------------------------------------------------------------------------------------\n",
            "Intercept               47.7141      0.731     65.251      0.000      46.281      49.147\n",
            "venue_count             14.7286      0.069    213.359      0.000      14.593      14.864\n",
            "subway_station_count     7.7225      0.664     11.632      0.000       6.421       9.024\n",
            "bike_station_count      35.2618      0.316    111.596      0.000      34.642      35.881\n",
            "business_count           0.0399      0.001     32.595      0.000       0.038       0.042\n",
            "Bronx                    2.8617      1.050      2.725      0.006       0.804       4.920\n",
            "Brooklyn                 8.5077      0.851     10.001      0.000       6.840      10.175\n",
            "Manhattan              146.5424      1.997     73.382      0.000     142.628     150.456\n",
            "Queens                 -44.8766      0.791    -56.710      0.000     -46.428     -43.326\n",
            "Staten_Island          -65.3210      1.015    -64.383      0.000     -67.310     -63.332\n",
            "LotArea              -1.435e-07    9.1e-09    -15.774      0.000   -1.61e-07   -1.26e-07\n",
            "ResArea               1.876e-05    1.7e-07    110.154      0.000    1.84e-05    1.91e-05\n",
            "OfficeArea           -3.203e-06   2.72e-07    -11.774      0.000   -3.74e-06   -2.67e-06\n",
            "RetailArea           -2.408e-05   1.69e-06    -14.230      0.000   -2.74e-05   -2.08e-05\n",
            "==============================================================================\n",
            "Omnibus:                   129988.972   Durbin-Watson:                   1.504\n",
            "Prob(Omnibus):                  0.000   Jarque-Bera (JB):         21141020.916\n",
            "Skew:                           3.798   Prob(JB):                         0.00\n",
            "Kurtosis:                      61.896   Cond. No.                     6.32e+22\n",
            "==============================================================================\n",
            "\n",
            "Warnings:\n",
            "[1] Standard Errors assume that the covariance matrix of the errors is correctly specified.\n",
            "[2] The smallest eigenvalue is 1.06e-25. This might indicate that there are\n",
            "strong multicollinearity problems or that the design matrix is singular.\n",
            "\n",
            "\n",
            "The following result is 2019 FHV Taxi night-time inflow regression with population variables\n",
            "                            OLS Regression Results                            \n",
            "==============================================================================\n",
            "Dep. Variable:      fhv_inflow_counts   R-squared:                       0.809\n",
            "Model:                            OLS   Adj. R-squared:                  0.809\n",
            "Method:                 Least Squares   F-statistic:                 6.092e+04\n",
            "Date:                Sun, 19 Jul 2020   Prob (F-statistic):               0.00\n",
            "Time:                        01:32:29   Log-Likelihood:            -9.3668e+05\n",
            "No. Observations:              143880   AIC:                         1.873e+06\n",
            "Df Residuals:                  143869   BIC:                         1.873e+06\n",
            "Df Model:                          10                                         \n",
            "Covariance Type:            nonrobust                                         \n",
            "========================================================================================\n",
            "                           coef    std err          t      P>|t|      [0.025      0.975]\n",
            "----------------------------------------------------------------------------------------\n",
            "Intercept               36.7791      0.679     54.142      0.000      35.448      38.111\n",
            "venue_count             14.3193      0.066    218.398      0.000      14.191      14.448\n",
            "subway_station_count    -6.6591      0.671     -9.927      0.000      -7.974      -5.344\n",
            "bike_station_count      39.8710      0.305    130.837      0.000      39.274      40.468\n",
            "business_count           0.0257      0.001     19.602      0.000       0.023       0.028\n",
            "Bronx                   -5.5480      1.045     -5.312      0.000      -7.595      -3.501\n",
            "Brooklyn                -9.4744      0.844    -11.232      0.000     -11.128      -7.821\n",
            "Manhattan              162.7351      1.899     85.711      0.000     159.014     166.456\n",
            "Queens                 -52.0083      0.769    -67.608      0.000     -53.516     -50.501\n",
            "Staten_Island          -58.9252      1.000    -58.916      0.000     -60.885     -56.965\n",
            "day_pop                  0.0002   6.59e-05      3.672      0.000       0.000       0.000\n",
            "night_pop                0.0088   6.07e-05    145.349      0.000       0.009       0.009\n",
            "==============================================================================\n",
            "Omnibus:                   131983.642   Durbin-Watson:                   1.494\n",
            "Prob(Omnibus):                  0.000   Jarque-Bera (JB):         22945976.123\n",
            "Skew:                           3.878   Prob(JB):                         0.00\n",
            "Kurtosis:                      64.379   Cond. No.                     2.81e+19\n",
            "==============================================================================\n",
            "\n",
            "Warnings:\n",
            "[1] Standard Errors assume that the covariance matrix of the errors is correctly specified.\n",
            "[2] The smallest eigenvalue is 1.11e-25. This might indicate that there are\n",
            "strong multicollinearity problems or that the design matrix is singular.\n"
          ],
          "name": "stdout"
        }
      ]
    },
    {
      "cell_type": "code",
      "metadata": {
        "id": "6IjTpPb3hJik"
      },
      "source": [
        ""
      ],
      "execution_count": null,
      "outputs": []
    },
    {
      "cell_type": "markdown",
      "metadata": {
        "id": "eiXPMvHYibXf"
      },
      "source": [
        "**2020 Inflow Regression Models**\n",
        "\n",
        "2020 FHV data is not published yet, we are regress on MTA and Citi Bike data"
      ]
    },
    {
      "cell_type": "code",
      "metadata": {
        "id": "SwZ-kM8wikKL",
        "colab": {
          "base_uri": "https://localhost:8080/",
          "height": 1000
        },
        "outputId": "53748056-dbe7-4c22-becf-2e25093f75c3"
      },
      "source": [
        "#2020 MTA Regressions\n",
        "inflow_Reg_20mta = smf.ols(formula=formula_mta20, data = df20_wd_bd).fit()\n",
        "print('The following result is 2020 mta night-time inflow regression')\n",
        "print(inflow_Reg_20mta.summary())\n",
        "\n",
        "#2020 MTA night-time Regressions with area variables\n",
        "inflow_Reg_20mta_area = smf.ols(formula=formula_mta_area, data = df20_wd_bd).fit()\n",
        "print('\\n')\n",
        "print('The following result is 2020 mta night-time inflow regression with area variables')\n",
        "print(inflow_Reg_20mta_area.summary())\n",
        "\n",
        "#2020 MTA night-time Regressions with population variables\n",
        "inflow_Reg_20mta_pop = smf.ols(formula=formula_mta_pop, data = df20_wd_bd).fit()\n",
        "print('\\n')\n",
        "print('The following result is 2020 mta night-time inflow regression with population variables')\n",
        "print(inflow_Reg_20mta_pop.summary())"
      ],
      "execution_count": null,
      "outputs": [
        {
          "output_type": "stream",
          "text": [
            "The following result is 2020 mta night-time inflow regression\n",
            "                            OLS Regression Results                            \n",
            "==============================================================================\n",
            "Dep. Variable:      mta_inflow_counts   R-squared:                       0.533\n",
            "Model:                            OLS   Adj. R-squared:                  0.533\n",
            "Method:                 Least Squares   F-statistic:                 1.842e+04\n",
            "Date:                Sun, 19 Jul 2020   Prob (F-statistic):               0.00\n",
            "Time:                        01:32:30   Log-Likelihood:            -1.2710e+06\n",
            "No. Observations:              145079   AIC:                         2.542e+06\n",
            "Df Residuals:                  145069   BIC:                         2.542e+06\n",
            "Df Model:                           9                                         \n",
            "Covariance Type:            nonrobust                                         \n",
            "========================================================================================\n",
            "                           coef    std err          t      P>|t|      [0.025      0.975]\n",
            "----------------------------------------------------------------------------------------\n",
            "Intercept             -156.7377      6.117    -25.624      0.000    -168.727    -144.749\n",
            "venue_count             44.2114      0.620     71.325      0.000      42.996      45.426\n",
            "subway_station_count   350.4150      6.002     58.378      0.000     338.650     362.180\n",
            "bike_station_count     -81.1152      2.842    -28.540      0.000     -86.686     -75.545\n",
            "business_count           1.0713      0.006    167.993      0.000       1.059       1.084\n",
            "Bronx                    1.6293      9.769      0.167      0.868     -17.518      20.777\n",
            "Brooklyn               -62.7987      7.941     -7.909      0.000     -78.362     -47.235\n",
            "Manhattan             -359.4390     17.375    -20.687      0.000    -393.494    -325.383\n",
            "Queens                  81.3815      7.290     11.164      0.000      67.093      95.670\n",
            "Staten_Island          182.4892      9.113     20.026      0.000     164.629     200.350\n",
            "covid19               -329.6804      8.108    -40.662      0.000    -345.572    -313.789\n",
            "==============================================================================\n",
            "Omnibus:                   159521.045   Durbin-Watson:                   0.119\n",
            "Prob(Omnibus):                  0.000   Jarque-Bera (JB):        152211607.422\n",
            "Skew:                           4.771   Prob(JB):                         0.00\n",
            "Kurtosis:                     161.395   Cond. No.                     3.31e+17\n",
            "==============================================================================\n",
            "\n",
            "Warnings:\n",
            "[1] Standard Errors assume that the covariance matrix of the errors is correctly specified.\n",
            "[2] The smallest eigenvalue is 1.78e-24. This might indicate that there are\n",
            "strong multicollinearity problems or that the design matrix is singular.\n",
            "\n",
            "\n",
            "The following result is 2020 mta night-time inflow regression with area variables\n",
            "                            OLS Regression Results                            \n",
            "==============================================================================\n",
            "Dep. Variable:      mta_inflow_counts   R-squared:                       0.540\n",
            "Model:                            OLS   Adj. R-squared:                  0.540\n",
            "Method:                 Least Squares   F-statistic:                 1.418e+04\n",
            "Date:                Sun, 19 Jul 2020   Prob (F-statistic):               0.00\n",
            "Time:                        01:32:31   Log-Likelihood:            -1.2700e+06\n",
            "No. Observations:              145079   AIC:                         2.540e+06\n",
            "Df Residuals:                  145066   BIC:                         2.540e+06\n",
            "Df Model:                          12                                         \n",
            "Covariance Type:            nonrobust                                         \n",
            "========================================================================================\n",
            "                           coef    std err          t      P>|t|      [0.025      0.975]\n",
            "----------------------------------------------------------------------------------------\n",
            "Intercept             -135.5092      6.788    -19.962      0.000    -148.814    -122.204\n",
            "venue_count             38.5751      0.641     60.194      0.000      37.319      39.831\n",
            "subway_station_count   363.0696      6.163     58.908      0.000     350.990     375.150\n",
            "bike_station_count     -42.2374      2.933    -14.399      0.000     -47.987     -36.488\n",
            "business_count           0.8047      0.011     70.721      0.000       0.782       0.827\n",
            "Bronx                    6.6918      9.747      0.687      0.492     -12.412      25.796\n",
            "Brooklyn              -101.4452      7.897    -12.845      0.000    -116.924     -85.966\n",
            "Manhattan              -67.0399     18.539     -3.616      0.000    -103.375     -30.704\n",
            "Queens                  -6.5240      7.346     -0.888      0.374     -20.922       7.874\n",
            "Staten_Island           32.8082      9.419      3.483      0.000      14.348      51.268\n",
            "LotArea               7.069e-07   8.44e-08      8.373      0.000    5.41e-07    8.72e-07\n",
            "ResArea              -6.508e-05   1.58e-06    -41.165      0.000   -6.82e-05    -6.2e-05\n",
            "OfficeArea             3.63e-05   2.53e-06     14.374      0.000    3.14e-05    4.13e-05\n",
            "RetailArea               0.0005   1.57e-05     29.891      0.000       0.000       0.001\n",
            "==============================================================================\n",
            "Omnibus:                   144216.284   Durbin-Watson:                   0.121\n",
            "Prob(Omnibus):                  0.000   Jarque-Bera (JB):        152245409.630\n",
            "Skew:                           3.890   Prob(JB):                         0.00\n",
            "Kurtosis:                     161.509   Cond. No.                     1.25e+22\n",
            "==============================================================================\n",
            "\n",
            "Warnings:\n",
            "[1] Standard Errors assume that the covariance matrix of the errors is correctly specified.\n",
            "[2] The smallest eigenvalue is 2.71e-24. This might indicate that there are\n",
            "strong multicollinearity problems or that the design matrix is singular.\n",
            "\n",
            "\n",
            "The following result is 2020 mta night-time inflow regression with population variables\n",
            "                            OLS Regression Results                            \n",
            "==============================================================================\n",
            "Dep. Variable:      mta_inflow_counts   R-squared:                       0.543\n",
            "Model:                            OLS   Adj. R-squared:                  0.543\n",
            "Method:                 Least Squares   F-statistic:                 1.722e+04\n",
            "Date:                Sun, 19 Jul 2020   Prob (F-statistic):               0.00\n",
            "Time:                        01:32:31   Log-Likelihood:            -1.2696e+06\n",
            "No. Observations:              145079   AIC:                         2.539e+06\n",
            "Df Residuals:                  145068   BIC:                         2.539e+06\n",
            "Df Model:                          10                                         \n",
            "Covariance Type:            nonrobust                                         \n",
            "========================================================================================\n",
            "                           coef    std err          t      P>|t|      [0.025      0.975]\n",
            "----------------------------------------------------------------------------------------\n",
            "Intercept             -111.2241      6.359    -17.492      0.000    -123.687     -98.761\n",
            "venue_count             44.0466      0.614     71.771      0.000      42.844      45.250\n",
            "subway_station_count   400.8047      6.279     63.833      0.000     388.498     413.111\n",
            "bike_station_count     -69.3168      2.852    -24.301      0.000     -74.908     -63.726\n",
            "business_count           0.6344      0.012     51.636      0.000       0.610       0.658\n",
            "Bronx                   12.2800      9.777      1.256      0.209      -6.883      31.443\n",
            "Brooklyn               -36.1424      7.895     -4.578      0.000     -51.617     -20.667\n",
            "Manhattan             -149.5998     17.772     -8.418      0.000    -184.432    -114.767\n",
            "Queens                  28.0378      7.201      3.894      0.000      13.925      42.151\n",
            "Staten_Island           34.2003      9.362      3.653      0.000      15.852      52.549\n",
            "day_pop                  0.0250      0.001     40.595      0.000       0.024       0.026\n",
            "night_pop               -0.0331      0.001    -58.239      0.000      -0.034      -0.032\n",
            "==============================================================================\n",
            "Omnibus:                   147816.881   Durbin-Watson:                   0.121\n",
            "Prob(Omnibus):                  0.000   Jarque-Bera (JB):        164190392.042\n",
            "Skew:                           4.066   Prob(JB):                         0.00\n",
            "Kurtosis:                     167.607   Cond. No.                     5.80e+18\n",
            "==============================================================================\n",
            "\n",
            "Warnings:\n",
            "[1] Standard Errors assume that the covariance matrix of the errors is correctly specified.\n",
            "[2] The smallest eigenvalue is 2.64e-24. This might indicate that there are\n",
            "strong multicollinearity problems or that the design matrix is singular.\n"
          ],
          "name": "stdout"
        }
      ]
    },
    {
      "cell_type": "code",
      "metadata": {
        "id": "yoYCau__i2Ew",
        "colab": {
          "base_uri": "https://localhost:8080/",
          "height": 1000
        },
        "outputId": "a54b233b-3969-45f8-e843-343b8caeea84"
      },
      "source": [
        "#2020 Citi Bike night-time Regressions\n",
        "\n",
        "inflow_Reg_20citi = smf.ols(formula=formula_citi20, data = df20_wd_bd).fit()\n",
        "print('The following result is 2020 Citi Bike night-time inflow regression')\n",
        "print(inflow_Reg_20citi.summary())\n",
        "\n",
        "#2020 Citi Bike night-time Regressions with area variables\n",
        "\n",
        "inflow_Reg_20citi_area = smf.ols(formula=formula_citi_area, data = df20_wd_bd).fit()\n",
        "print('\\n')\n",
        "print('The following result is 2020 Citi Bike night-time inflow regression with area variables')\n",
        "print(inflow_Reg_20citi_area.summary())\n",
        "\n",
        "#2020 MTA night-time Regressions with population variables\n",
        "\n",
        "inflow_Reg_20citi_pop = smf.ols(formula=formula_citi_pop, data = df20_wd_bd).fit()\n",
        "print('\\n')\n",
        "print('The following result is 2020 Citi Bike night-time inflow regression with population variables')\n",
        "print(inflow_Reg_20citi_pop.summary())"
      ],
      "execution_count": null,
      "outputs": [
        {
          "output_type": "stream",
          "text": [
            "The following result is 2020 Citi Bike night-time inflow regression\n",
            "                            OLS Regression Results                            \n",
            "==============================================================================\n",
            "Dep. Variable:     citi_inflow_counts   R-squared:                       0.628\n",
            "Model:                            OLS   Adj. R-squared:                  0.628\n",
            "Method:                 Least Squares   F-statistic:                 2.725e+04\n",
            "Date:                Sun, 19 Jul 2020   Prob (F-statistic):               0.00\n",
            "Time:                        01:32:32   Log-Likelihood:            -5.1585e+05\n",
            "No. Observations:              145079   AIC:                         1.032e+06\n",
            "Df Residuals:                  145069   BIC:                         1.032e+06\n",
            "Df Model:                           9                                         \n",
            "Covariance Type:            nonrobust                                         \n",
            "========================================================================================\n",
            "                           coef    std err          t      P>|t|      [0.025      0.975]\n",
            "----------------------------------------------------------------------------------------\n",
            "Intercept                1.5116      0.034     45.040      0.000       1.446       1.577\n",
            "venue_count              0.6692      0.003    196.773      0.000       0.663       0.676\n",
            "subway_station_count    -1.2014      0.033    -36.479      0.000      -1.266      -1.137\n",
            "bike_station_count       1.9306      0.016    123.804      0.000       1.900       1.961\n",
            "business_count          -0.0008    3.5e-05    -21.779      0.000      -0.001      -0.001\n",
            "Bronx                   -1.2833      0.054    -23.941      0.000      -1.388      -1.178\n",
            "Brooklyn                -1.8154      0.044    -41.668      0.000      -1.901      -1.730\n",
            "Manhattan                6.9025      0.095     72.403      0.000       6.716       7.089\n",
            "Queens                  -1.4022      0.040    -35.057      0.000      -1.481      -1.324\n",
            "Staten_Island           -0.8900      0.050    -17.800      0.000      -0.988      -0.792\n",
            "covid19                 -1.4201      0.044    -31.922      0.000      -1.507      -1.333\n",
            "==============================================================================\n",
            "Omnibus:                   193732.367   Durbin-Watson:                   0.276\n",
            "Prob(Omnibus):                  0.000   Jarque-Bera (JB):        112769879.556\n",
            "Skew:                           7.260   Prob(JB):                         0.00\n",
            "Kurtosis:                     138.810   Cond. No.                     3.31e+17\n",
            "==============================================================================\n",
            "\n",
            "Warnings:\n",
            "[1] Standard Errors assume that the covariance matrix of the errors is correctly specified.\n",
            "[2] The smallest eigenvalue is 1.78e-24. This might indicate that there are\n",
            "strong multicollinearity problems or that the design matrix is singular.\n",
            "\n",
            "\n",
            "The following result is 2020 Citi Bike night-time inflow regression with area variables\n",
            "                            OLS Regression Results                            \n",
            "==============================================================================\n",
            "Dep. Variable:     citi_inflow_counts   R-squared:                       0.638\n",
            "Model:                            OLS   Adj. R-squared:                  0.638\n",
            "Method:                 Least Squares   F-statistic:                 2.133e+04\n",
            "Date:                Sun, 19 Jul 2020   Prob (F-statistic):               0.00\n",
            "Time:                        01:32:32   Log-Likelihood:            -5.1389e+05\n",
            "No. Observations:              145079   AIC:                         1.028e+06\n",
            "Df Residuals:                  145066   BIC:                         1.028e+06\n",
            "Df Model:                          12                                         \n",
            "Covariance Type:            nonrobust                                         \n",
            "========================================================================================\n",
            "                           coef    std err          t      P>|t|      [0.025      0.975]\n",
            "----------------------------------------------------------------------------------------\n",
            "Intercept                0.1862      0.037      5.033      0.000       0.114       0.259\n",
            "venue_count              0.6778      0.003    194.031      0.000       0.671       0.685\n",
            "subway_station_count    -1.0846      0.034    -32.282      0.000      -1.150      -1.019\n",
            "bike_station_count       1.8047      0.016    112.859      0.000       1.773       1.836\n",
            "business_count           0.0023    6.2e-05     36.520      0.000       0.002       0.002\n",
            "Bronx                   -1.4191      0.053    -26.708      0.000      -1.523      -1.315\n",
            "Brooklyn                -2.0613      0.043    -47.881      0.000      -2.146      -1.977\n",
            "Manhattan                5.6709      0.101     56.115      0.000       5.473       5.869\n",
            "Queens                  -1.4635      0.040    -36.544      0.000      -1.542      -1.385\n",
            "Staten_Island           -0.5408      0.051    -10.533      0.000      -0.641      -0.440\n",
            "LotArea               4.431e-09    4.6e-10      9.627      0.000    3.53e-09    5.33e-09\n",
            "ResArea               1.187e-07   8.62e-09     13.776      0.000    1.02e-07    1.36e-07\n",
            "OfficeArea           -7.502e-07   1.38e-08    -54.498      0.000   -7.77e-07   -7.23e-07\n",
            "RetailArea           -1.561e-06   8.56e-08    -18.230      0.000   -1.73e-06   -1.39e-06\n",
            "==============================================================================\n",
            "Omnibus:                   189687.683   Durbin-Watson:                   0.284\n",
            "Prob(Omnibus):                  0.000   Jarque-Bera (JB):        103773056.848\n",
            "Skew:                           6.981   Prob(JB):                         0.00\n",
            "Kurtosis:                     133.276   Cond. No.                     1.25e+22\n",
            "==============================================================================\n",
            "\n",
            "Warnings:\n",
            "[1] Standard Errors assume that the covariance matrix of the errors is correctly specified.\n",
            "[2] The smallest eigenvalue is 2.71e-24. This might indicate that there are\n",
            "strong multicollinearity problems or that the design matrix is singular.\n",
            "\n",
            "\n",
            "The following result is 2020 Citi Bike night-time inflow regression with population variables\n",
            "                            OLS Regression Results                            \n",
            "==============================================================================\n",
            "Dep. Variable:     citi_inflow_counts   R-squared:                       0.629\n",
            "Model:                            OLS   Adj. R-squared:                  0.629\n",
            "Method:                 Least Squares   F-statistic:                 2.460e+04\n",
            "Date:                Sun, 19 Jul 2020   Prob (F-statistic):               0.00\n",
            "Time:                        01:32:32   Log-Likelihood:            -5.1571e+05\n",
            "No. Observations:              145079   AIC:                         1.031e+06\n",
            "Df Residuals:                  145068   BIC:                         1.032e+06\n",
            "Df Model:                          10                                         \n",
            "Covariance Type:            nonrobust                                         \n",
            "========================================================================================\n",
            "                           coef    std err          t      P>|t|      [0.025      0.975]\n",
            "----------------------------------------------------------------------------------------\n",
            "Intercept                0.6591      0.035     18.715      0.000       0.590       0.728\n",
            "venue_count              0.6684      0.003    196.643      0.000       0.662       0.675\n",
            "subway_station_count    -1.1787      0.035    -33.896      0.000      -1.247      -1.111\n",
            "bike_station_count       1.9357      0.016    122.532      0.000       1.905       1.967\n",
            "business_count           0.0011    6.8e-05     16.077      0.000       0.001       0.001\n",
            "Bronx                   -1.3809      0.054    -25.503      0.000      -1.487      -1.275\n",
            "Brooklyn                -2.0269      0.044    -46.354      0.000      -2.113      -1.941\n",
            "Manhattan                6.3938      0.098     64.962      0.000       6.201       6.587\n",
            "Queens                  -1.4800      0.040    -37.114      0.000      -1.558      -1.402\n",
            "Staten_Island           -0.8470      0.052    -16.336      0.000      -0.949      -0.745\n",
            "day_pop                 -0.0001   3.42e-06    -31.523      0.000      -0.000      -0.000\n",
            "night_pop              6.31e-05   3.15e-06     20.057      0.000    5.69e-05    6.93e-05\n",
            "==============================================================================\n",
            "Omnibus:                   191686.879   Durbin-Watson:                   0.277\n",
            "Prob(Omnibus):                  0.000   Jarque-Bera (JB):        107280816.104\n",
            "Skew:                           7.121   Prob(JB):                         0.00\n",
            "Kurtosis:                     135.455   Cond. No.                     5.80e+18\n",
            "==============================================================================\n",
            "\n",
            "Warnings:\n",
            "[1] Standard Errors assume that the covariance matrix of the errors is correctly specified.\n",
            "[2] The smallest eigenvalue is 2.64e-24. This might indicate that there are\n",
            "strong multicollinearity problems or that the design matrix is singular.\n"
          ],
          "name": "stdout"
        }
      ]
    },
    {
      "cell_type": "markdown",
      "metadata": {
        "id": "SdSseBcuv0GP"
      },
      "source": [
        "**Regression solely with Dummy variables and station counts**"
      ]
    },
    {
      "cell_type": "code",
      "metadata": {
        "id": "hvgX3UxCv4TF"
      },
      "source": [
        "mtamodel = 'mta_inflow_counts~venue_count+subway_station_count+bike_station_count+business_count+Bronx+Brooklyn+Manhattan+Queens+Staten_Island'\n",
        "citimodel = 'citi_inflow_counts~venue_count+subway_station_count+bike_station_count+business_count+Bronx+Brooklyn+Manhattan+Queens+Staten_Island'\n",
        "fhvmodel = 'fhv_inflow_counts~venue_count+subway_station_count+bike_station_count+business_count+Bronx+Brooklyn+Manhattan+Queens+Staten_Island'"
      ],
      "execution_count": null,
      "outputs": []
    },
    {
      "cell_type": "code",
      "metadata": {
        "id": "d4dNtrYwwKgS",
        "colab": {
          "base_uri": "https://localhost:8080/",
          "height": 1000
        },
        "outputId": "85a781e6-246d-488f-c12b-64aa92ba19be"
      },
      "source": [
        "#2019 regression only dummy and station counts.\n",
        "testmta = smf.ols(formula=mtamodel, data = df19_wd_bd).fit()\n",
        "print('test mta')\n",
        "print(testmta.summary())\n",
        "\n",
        "testciti = smf.ols(formula=citimodel, data = df19_wd_bd).fit()\n",
        "print('\\n')\n",
        "print('test citi')\n",
        "print(testciti.summary())\n",
        "\n",
        "testfhv = smf.ols(formula=fhvmodel, data = df19_wd_bd).fit()\n",
        "print('\\n')\n",
        "print('test fhv')\n",
        "print(testfhv.summary())\n"
      ],
      "execution_count": null,
      "outputs": [
        {
          "output_type": "stream",
          "text": [
            "test mta\n",
            "                            OLS Regression Results                            \n",
            "==============================================================================\n",
            "Dep. Variable:      mta_inflow_counts   R-squared:                       0.781\n",
            "Model:                            OLS   Adj. R-squared:                  0.781\n",
            "Method:                 Least Squares   F-statistic:                 6.411e+04\n",
            "Date:                Fri, 17 Jul 2020   Prob (F-statistic):               0.00\n",
            "Time:                        21:52:24   Log-Likelihood:            -1.2522e+06\n",
            "No. Observations:              143880   AIC:                         2.504e+06\n",
            "Df Residuals:                  143871   BIC:                         2.504e+06\n",
            "Df Model:                           8                                         \n",
            "Covariance Type:            nonrobust                                         \n",
            "========================================================================================\n",
            "                           coef    std err          t      P>|t|      [0.025      0.975]\n",
            "----------------------------------------------------------------------------------------\n",
            "Intercept             -430.9263      4.813    -89.534      0.000    -440.360    -421.493\n",
            "venue_count             78.7181      0.587    134.055      0.000      77.567      79.869\n",
            "subway_station_count   593.8213      5.686    104.430      0.000     582.676     604.966\n",
            "bike_station_count    -131.0410      2.692    -48.670      0.000    -136.318    -125.764\n",
            "business_count           1.6937      0.006    280.379      0.000       1.682       1.706\n",
            "Bronx                  -99.1198      9.232    -10.736      0.000    -117.215     -81.025\n",
            "Brooklyn              -238.5262      7.495    -31.827      0.000    -253.215    -223.837\n",
            "Manhattan             -324.8862     16.448    -19.753      0.000    -357.123    -292.649\n",
            "Queens                  30.0437      6.876      4.370      0.000      16.567      43.520\n",
            "Staten_Island          201.5622      8.609     23.414      0.000     184.690     218.435\n",
            "==============================================================================\n",
            "Omnibus:                    95714.088   Durbin-Watson:                   2.081\n",
            "Prob(Omnibus):                  0.000   Jarque-Bera (JB):         34342957.498\n",
            "Skew:                           2.025   Prob(JB):                         0.00\n",
            "Kurtosis:                      78.579   Cond. No.                     2.29e+18\n",
            "==============================================================================\n",
            "\n",
            "Warnings:\n",
            "[1] Standard Errors assume that the covariance matrix of the errors is correctly specified.\n",
            "[2] The smallest eigenvalue is 3.69e-26. This might indicate that there are\n",
            "strong multicollinearity problems or that the design matrix is singular.\n",
            "\n",
            "\n",
            "test citi\n",
            "                            OLS Regression Results                            \n",
            "==============================================================================\n",
            "Dep. Variable:     citi_inflow_counts   R-squared:                       0.647\n",
            "Model:                            OLS   Adj. R-squared:                  0.647\n",
            "Method:                 Least Squares   F-statistic:                 3.293e+04\n",
            "Date:                Fri, 17 Jul 2020   Prob (F-statistic):               0.00\n",
            "Time:                        21:52:24   Log-Likelihood:            -5.3570e+05\n",
            "No. Observations:              143880   AIC:                         1.071e+06\n",
            "Df Residuals:                  143871   BIC:                         1.072e+06\n",
            "Df Model:                           8                                         \n",
            "Covariance Type:            nonrobust                                         \n",
            "========================================================================================\n",
            "                           coef    std err          t      P>|t|      [0.025      0.975]\n",
            "----------------------------------------------------------------------------------------\n",
            "Intercept                1.2478      0.033     37.701      0.000       1.183       1.313\n",
            "venue_count              0.9079      0.004    224.838      0.000       0.900       0.916\n",
            "subway_station_count    -1.4430      0.039    -36.900      0.000      -1.520      -1.366\n",
            "bike_station_count       2.3661      0.019    127.789      0.000       2.330       2.402\n",
            "business_count          -0.0021   4.15e-05    -51.107      0.000      -0.002      -0.002\n",
            "Bronx                   -1.6889      0.063    -26.601      0.000      -1.813      -1.564\n",
            "Brooklyn                -2.2773      0.052    -44.186      0.000      -2.378      -2.176\n",
            "Manhattan                8.4104      0.113     74.357      0.000       8.189       8.632\n",
            "Queens                  -1.8950      0.047    -40.077      0.000      -1.988      -1.802\n",
            "Staten_Island           -1.3014      0.059    -21.983      0.000      -1.417      -1.185\n",
            "==============================================================================\n",
            "Omnibus:                   192591.941   Durbin-Watson:                   1.766\n",
            "Prob(Omnibus):                  0.000   Jarque-Bera (JB):        139898520.364\n",
            "Skew:                           7.202   Prob(JB):                         0.00\n",
            "Kurtosis:                     155.080   Cond. No.                     2.29e+18\n",
            "==============================================================================\n",
            "\n",
            "Warnings:\n",
            "[1] Standard Errors assume that the covariance matrix of the errors is correctly specified.\n",
            "[2] The smallest eigenvalue is 3.69e-26. This might indicate that there are\n",
            "strong multicollinearity problems or that the design matrix is singular.\n",
            "\n",
            "\n",
            "test fhv\n",
            "                            OLS Regression Results                            \n",
            "==============================================================================\n",
            "Dep. Variable:      fhv_inflow_counts   R-squared:                       0.781\n",
            "Model:                            OLS   Adj. R-squared:                  0.781\n",
            "Method:                 Least Squares   F-statistic:                 6.399e+04\n",
            "Date:                Fri, 17 Jul 2020   Prob (F-statistic):               0.00\n",
            "Time:                        21:52:24   Log-Likelihood:            -9.4663e+05\n",
            "No. Observations:              143880   AIC:                         1.893e+06\n",
            "Df Residuals:                  143871   BIC:                         1.893e+06\n",
            "Df Model:                           8                                         \n",
            "Covariance Type:            nonrobust                                         \n",
            "========================================================================================\n",
            "                           coef    std err          t      P>|t|      [0.025      0.975]\n",
            "----------------------------------------------------------------------------------------\n",
            "Intercept               96.8106      0.576    168.167      0.000      95.682      97.939\n",
            "venue_count             14.1384      0.070    201.299      0.000      14.001      14.276\n",
            "subway_station_count    20.4962      0.680     30.135      0.000      19.163      21.829\n",
            "bike_station_count      46.1969      0.322    143.450      0.000      45.566      46.828\n",
            "business_count           0.0273      0.001     37.829      0.000       0.026       0.029\n",
            "Bronx                   15.6294      1.104     14.154      0.000      13.465      17.794\n",
            "Brooklyn                 6.3462      0.896      7.080      0.000       4.589       8.103\n",
            "Manhattan              233.4191      1.967    118.650      0.000     229.563     237.275\n",
            "Queens                 -59.6966      0.822    -72.588      0.000     -61.308     -58.085\n",
            "Staten_Island          -98.8875      1.030    -96.039      0.000    -100.906     -96.869\n",
            "==============================================================================\n",
            "Omnibus:                   117194.179   Durbin-Watson:                   1.550\n",
            "Prob(Omnibus):                  0.000   Jarque-Bera (JB):         14469498.151\n",
            "Skew:                           3.258   Prob(JB):                         0.00\n",
            "Kurtosis:                      51.694   Cond. No.                     2.29e+18\n",
            "==============================================================================\n",
            "\n",
            "Warnings:\n",
            "[1] Standard Errors assume that the covariance matrix of the errors is correctly specified.\n",
            "[2] The smallest eigenvalue is 3.69e-26. This might indicate that there are\n",
            "strong multicollinearity problems or that the design matrix is singular.\n"
          ],
          "name": "stdout"
        }
      ]
    },
    {
      "cell_type": "markdown",
      "metadata": {
        "id": "2NETdHnKjQXF"
      },
      "source": [
        "**merge 2020 and 2019 MTA data together**"
      ]
    },
    {
      "cell_type": "code",
      "metadata": {
        "id": "lORnyiF_jUlX"
      },
      "source": [
        "frame = [df19_wd_bd,df20_wd_bd]\n",
        "\n",
        "all = pd.concat(frame)"
      ],
      "execution_count": null,
      "outputs": []
    },
    {
      "cell_type": "code",
      "metadata": {
        "id": "HnWiE_WEjeBm",
        "colab": {
          "base_uri": "https://localhost:8080/",
          "height": 1000
        },
        "outputId": "22a8942c-8f56-4eb1-e958-b7c29e9f417a"
      },
      "source": [
        "#2019&2020 Citi Bike night-time Regressions\n",
        "\n",
        "inflow_Reg_citi = smf.ols(formula=formula_citi, data = all).fit()\n",
        "print('The following result is 2019&2020 Citi Bike night-time inflow regression')\n",
        "print(inflow_Reg_citi.summary())\n",
        "\n",
        "#2019&2020 Citi Bike night-time Regressions with area variables\n",
        "\n",
        "inflow_Reg_citi_area = smf.ols(formula=formula_citi_area, data = all).fit()\n",
        "print('\\n')\n",
        "print('The following result is 2019&2020 Citi Bike night-time inflow regression with area variables')\n",
        "print(inflow_Reg_citi_area.summary())\n",
        "\n",
        "#2019&2020 MTA night-time Regressions with population variables\n",
        "\n",
        "inflow_Reg_citi_pop = smf.ols(formula=formula_citi_pop, data = all).fit()\n",
        "print('\\n')\n",
        "print('The following result is 2019&2020 Citi Bike night-time inflow regression with population variables')\n",
        "print(inflow_Reg_citi_pop.summary())"
      ],
      "execution_count": null,
      "outputs": [
        {
          "output_type": "stream",
          "text": [
            "The following result is 2019&2020 Citi Bike night-time inflow regression\n",
            "                            OLS Regression Results                            \n",
            "==============================================================================\n",
            "Dep. Variable:     citi_inflow_counts   R-squared:                       0.635\n",
            "Model:                            OLS   Adj. R-squared:                  0.635\n",
            "Method:                 Least Squares   F-statistic:                 2.959e+04\n",
            "Date:                Fri, 17 Jul 2020   Prob (F-statistic):               0.00\n",
            "Time:                        20:54:58   Log-Likelihood:            -1.0553e+06\n",
            "No. Observations:              288959   AIC:                         2.111e+06\n",
            "Df Residuals:                  288941   BIC:                         2.111e+06\n",
            "Df Model:                          17                                         \n",
            "Covariance Type:            nonrobust                                         \n",
            "========================================================================================\n",
            "                           coef    std err          t      P>|t|      [0.025      0.975]\n",
            "----------------------------------------------------------------------------------------\n",
            "Intercept               -1.5533      0.062    -25.137      0.000      -1.674      -1.432\n",
            "venue_count              0.7881      0.003    296.997      0.000       0.783       0.793\n",
            "subway_station_count    -1.3217      0.026    -51.436      0.000      -1.372      -1.271\n",
            "bike_station_count       2.1475      0.012    176.502      0.000       2.124       2.171\n",
            "business_count          -0.0014   2.73e-05    -52.742      0.000      -0.001      -0.001\n",
            "Temp_Avg                 0.0948      0.002     48.515      0.000       0.091       0.099\n",
            "Precipitation           -0.7799      0.068    -11.532      0.000      -0.912      -0.647\n",
            "covid19                 -2.1233      0.043    -49.474      0.000      -2.207      -2.039\n",
            "Friday                  -0.5017      0.044    -11.491      0.000      -0.587      -0.416\n",
            "Monday                  -0.1943      0.044     -4.436      0.000      -0.280      -0.108\n",
            "Saturday                -0.2807      0.044     -6.439      0.000      -0.366      -0.195\n",
            "Sunday                  -0.6049      0.044    -13.748      0.000      -0.691      -0.519\n",
            "Thursday                 0.0147      0.043      0.343      0.732      -0.069       0.098\n",
            "Tuesday                 -0.0343      0.044     -0.787      0.431      -0.120       0.051\n",
            "Wednesday                0.0479      0.043      1.115      0.265      -0.036       0.132\n",
            "Bronx                   -2.0720      0.043    -47.773      0.000      -2.157      -1.987\n",
            "Brooklyn                -2.6321      0.036    -73.325      0.000      -2.702      -2.562\n",
            "Manhattan                7.0666      0.075     94.300      0.000       6.920       7.213\n",
            "Queens                  -2.2343      0.033    -66.914      0.000      -2.300      -2.169\n",
            "Staten_Island           -1.6815      0.041    -41.283      0.000      -1.761      -1.602\n",
            "==============================================================================\n",
            "Omnibus:                   394363.934   Durbin-Watson:                   1.128\n",
            "Prob(Omnibus):                  0.000   Jarque-Bera (JB):        302713944.422\n",
            "Skew:                           7.475   Prob(JB):                         0.00\n",
            "Kurtosis:                     160.857   Cond. No.                     1.01e+19\n",
            "==============================================================================\n",
            "\n",
            "Warnings:\n",
            "[1] Standard Errors assume that the covariance matrix of the errors is correctly specified.\n",
            "[2] The smallest eigenvalue is 3.77e-27. This might indicate that there are\n",
            "strong multicollinearity problems or that the design matrix is singular.\n",
            "\n",
            "\n",
            "The following result is 2019&2020 Citi Bike night-time inflow regression with area variables\n",
            "                            OLS Regression Results                            \n",
            "==============================================================================\n",
            "Dep. Variable:     citi_inflow_counts   R-squared:                       0.648\n",
            "Model:                            OLS   Adj. R-squared:                  0.648\n",
            "Method:                 Least Squares   F-statistic:                 2.536e+04\n",
            "Date:                Fri, 17 Jul 2020   Prob (F-statistic):               0.00\n",
            "Time:                        20:54:59   Log-Likelihood:            -1.0500e+06\n",
            "No. Observations:              288959   AIC:                         2.100e+06\n",
            "Df Residuals:                  288937   BIC:                         2.100e+06\n",
            "Df Model:                          21                                         \n",
            "Covariance Type:            nonrobust                                         \n",
            "========================================================================================\n",
            "                           coef    std err          t      P>|t|      [0.025      0.975]\n",
            "----------------------------------------------------------------------------------------\n",
            "Intercept               -2.2005      0.063    -34.899      0.000      -2.324      -2.077\n",
            "venue_count              0.7986      0.003    294.442      0.000       0.793       0.804\n",
            "subway_station_count    -1.1515      0.026    -44.140      0.000      -1.203      -1.100\n",
            "bike_station_count       2.0208      0.012    162.764      0.000       1.996       2.045\n",
            "business_count           0.0021   4.82e-05     44.512      0.000       0.002       0.002\n",
            "Temp_Avg                 0.0948      0.002     49.414      0.000       0.091       0.099\n",
            "Precipitation           -0.7799      0.066    -11.746      0.000      -0.910      -0.650\n",
            "covid19                 -2.1233      0.042    -50.391      0.000      -2.206      -2.041\n",
            "Friday                  -0.5942      0.043    -13.838      0.000      -0.678      -0.510\n",
            "Monday                  -0.2867      0.043     -6.658      0.000      -0.371      -0.202\n",
            "Saturday                -0.3731      0.043     -8.705      0.000      -0.457      -0.289\n",
            "Sunday                  -0.6973      0.043    -16.118      0.000      -0.782      -0.613\n",
            "Thursday                -0.0778      0.042     -1.850      0.064      -0.160       0.005\n",
            "Tuesday                 -0.1267      0.043     -2.960      0.003      -0.211      -0.043\n",
            "Wednesday               -0.0446      0.042     -1.057      0.291      -0.127       0.038\n",
            "Bronx                   -2.0459      0.043    -47.771      0.000      -2.130      -1.962\n",
            "Brooklyn                -2.7595      0.035    -77.943      0.000      -2.829      -2.690\n",
            "Manhattan                5.9586      0.079     75.532      0.000       5.804       6.113\n",
            "Queens                  -2.1628      0.033    -64.850      0.000      -2.228      -2.097\n",
            "Staten_Island           -1.1908      0.042    -28.556      0.000      -1.273      -1.109\n",
            "LotArea               4.252e-09   3.57e-10     11.897      0.000    3.55e-09    4.95e-09\n",
            "ResArea               1.017e-07   6.69e-09     15.194      0.000    8.86e-08    1.15e-07\n",
            "OfficeArea           -8.743e-07   1.07e-08    -81.798      0.000   -8.95e-07   -8.53e-07\n",
            "RetailArea            -1.94e-06   6.65e-08    -29.181      0.000   -2.07e-06   -1.81e-06\n",
            "==============================================================================\n",
            "Omnibus:                   390086.133   Durbin-Watson:                   1.108\n",
            "Prob(Omnibus):                  0.000   Jarque-Bera (JB):        291510556.680\n",
            "Skew:                           7.320   Prob(JB):                         0.00\n",
            "Kurtosis:                     157.912   Cond. No.                     4.39e+23\n",
            "==============================================================================\n",
            "\n",
            "Warnings:\n",
            "[1] Standard Errors assume that the covariance matrix of the errors is correctly specified.\n",
            "[2] The smallest eigenvalue is 4.4e-27. This might indicate that there are\n",
            "strong multicollinearity problems or that the design matrix is singular.\n",
            "\n",
            "\n",
            "The following result is 2019&2020 Citi Bike night-time inflow regression with population variables\n",
            "                            OLS Regression Results                            \n",
            "==============================================================================\n",
            "Dep. Variable:     citi_inflow_counts   R-squared:                       0.638\n",
            "Model:                            OLS   Adj. R-squared:                  0.638\n",
            "Method:                 Least Squares   F-statistic:                 2.684e+04\n",
            "Date:                Fri, 17 Jul 2020   Prob (F-statistic):               0.00\n",
            "Time:                        20:55:00   Log-Likelihood:            -1.0540e+06\n",
            "No. Observations:              288959   AIC:                         2.108e+06\n",
            "Df Residuals:                  288939   BIC:                         2.108e+06\n",
            "Df Model:                          19                                         \n",
            "Covariance Type:            nonrobust                                         \n",
            "========================================================================================\n",
            "                           coef    std err          t      P>|t|      [0.025      0.975]\n",
            "----------------------------------------------------------------------------------------\n",
            "Intercept               -1.8352      0.063    -28.985      0.000      -1.959      -1.711\n",
            "venue_count              0.7873      0.003    297.907      0.000       0.782       0.792\n",
            "subway_station_count    -1.3177      0.027    -48.735      0.000      -1.371      -1.265\n",
            "bike_station_count       2.1481      0.012    174.883      0.000       2.124       2.172\n",
            "business_count           0.0005   5.29e-05      9.913      0.000       0.000       0.001\n",
            "Temp_Avg                 0.0948      0.002     48.729      0.000       0.091       0.099\n",
            "Precipitation           -0.7799      0.067    -11.583      0.000      -0.912      -0.648\n",
            "covid19                 -2.1233      0.043    -49.692      0.000      -2.207      -2.040\n",
            "Friday                  -0.5420      0.044    -12.453      0.000      -0.627      -0.457\n",
            "Monday                  -0.2346      0.044     -5.373      0.000      -0.320      -0.149\n",
            "Saturday                -0.3209      0.043     -7.387      0.000      -0.406      -0.236\n",
            "Sunday                  -0.6451      0.044    -14.711      0.000      -0.731      -0.559\n",
            "Thursday                -0.0256      0.043     -0.601      0.548      -0.109       0.058\n",
            "Tuesday                 -0.0745      0.043     -1.718      0.086      -0.160       0.011\n",
            "Wednesday                0.0076      0.043      0.177      0.859      -0.076       0.091\n",
            "Bronx                   -2.0579      0.044    -47.120      0.000      -2.144      -1.972\n",
            "Brooklyn                -2.7347      0.036    -76.042      0.000      -2.805      -2.664\n",
            "Manhattan                6.6086      0.077     85.792      0.000       6.458       6.760\n",
            "Queens                  -2.1779      0.033    -65.331      0.000      -2.243      -2.113\n",
            "Staten_Island           -1.4733      0.042    -34.942      0.000      -1.556      -1.391\n",
            "day_pop                 -0.0001   2.66e-06    -42.864      0.000      -0.000      -0.000\n",
            "night_pop             7.335e-05   2.45e-06     29.986      0.000    6.86e-05    7.81e-05\n",
            "==============================================================================\n",
            "Omnibus:                   390887.461   Durbin-Watson:                   1.120\n",
            "Prob(Omnibus):                  0.000   Jarque-Bera (JB):        288226675.073\n",
            "Skew:                           7.356   Prob(JB):                         0.00\n",
            "Kurtosis:                     157.022   Cond. No.                     2.46e+20\n",
            "==============================================================================\n",
            "\n",
            "Warnings:\n",
            "[1] Standard Errors assume that the covariance matrix of the errors is correctly specified.\n",
            "[2] The smallest eigenvalue is 2.91e-27. This might indicate that there are\n",
            "strong multicollinearity problems or that the design matrix is singular.\n"
          ],
          "name": "stdout"
        }
      ]
    },
    {
      "cell_type": "code",
      "metadata": {
        "id": "pKxBd1eJjwG4"
      },
      "source": [
        ""
      ],
      "execution_count": null,
      "outputs": []
    }
  ]
}